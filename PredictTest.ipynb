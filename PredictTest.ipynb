{
 "cells": [
  {
   "cell_type": "code",
   "execution_count": 2,
   "metadata": {},
   "outputs": [],
   "source": [
    "import pandas as pd\n",
    "import numpy as np\n",
    "import matplotlib.pyplot as plt\n",
    "from sklearn.preprocessing import MinMaxScaler\n",
    "from sklearn.linear_model import LinearRegression \n",
    "from sklearn.metrics import mean_absolute_error\n",
    "dataframe=pd.read_csv(\"./weatherDaNang_2019.csv\")\n",
    "dataset_test_temp = pd.read_csv('./60timesbefore3103.csv')\n",
    "dataset_test_humi = pd.read_csv('./60timesbefore3103.csv')"
   ]
  },
  {
   "cell_type": "code",
   "execution_count": 3,
   "metadata": {},
   "outputs": [],
   "source": [
    "dataset_temp = dataframe.iloc[:,1:2].values\n",
    "dataset_humi = dataframe.iloc[:,2:3].values\n",
    "input_temp = dataset_test_temp.iloc[:,1:2].values\n",
    "input_humi = dataset_test_humi.iloc[:,2:3].values\n",
    "\n",
    "sc = MinMaxScaler(feature_range = (0, 1))"
   ]
  },
  {
   "cell_type": "code",
   "execution_count": 4,
   "metadata": {},
   "outputs": [],
   "source": [
    "def Temperature_Forecast_Model(dataset_temp):\n",
    "    sc = MinMaxScaler(feature_range = (0, 1))\n",
    "    dataset_scaled = sc.fit_transform(dataset_temp)\n",
    "    features_train = []\n",
    "    labels_train = []\n",
    "    #60 timesteps and 1 output\n",
    "    for i in range(60, len(dataset_temp)):\n",
    "        features_train.append(dataset_scaled[i-60:i, 0]) \n",
    "        labels_train.append(dataset_scaled[i, 0])\n",
    "    features_train, labels_train = np.array(features_train), np.array(labels_train)\n",
    "    features_train = np.reshape(features_train, (features_train.shape[0], features_train.shape[1]))\n",
    "    model = LinearRegression().fit(features_train, labels_train)\n",
    "    return model\n"
   ]
  },
  {
   "cell_type": "code",
   "execution_count": 5,
   "metadata": {},
   "outputs": [],
   "source": [
    "def Humidity_Forecast_Model(dataset_humi):\n",
    "    sc = MinMaxScaler(feature_range = (0, 1))\n",
    "    dataset_scaled = sc.fit_transform(dataset_humi)\n",
    "    features_train = []\n",
    "    labels_train = []\n",
    "    #60 timesteps and 1 output\n",
    "    for i in range(60, len(dataset_humi)):\n",
    "        features_train.append(dataset_scaled[i-60:i, 0]) \n",
    "        labels_train.append(dataset_scaled[i, 0])\n",
    "    features_train, labels_train = np.array(features_train), np.array(labels_train)\n",
    "    features_train = np.reshape(features_train, (features_train.shape[0], features_train.shape[1]))\n",
    "    model = LinearRegression().fit(features_train, labels_train)\n",
    "    return model"
   ]
  },
  {
   "cell_type": "code",
   "execution_count": 6,
   "metadata": {},
   "outputs": [],
   "source": [
    "dataset_scaled = sc.fit_transform(dataset_temp)\n",
    "input_temp = input_temp.reshape(-1,1)\n",
    "#chuan hoa de dua vao model\n",
    "input_temp = sc.transform(input_temp)"
   ]
  },
  {
   "cell_type": "code",
   "execution_count": 7,
   "metadata": {},
   "outputs": [
    {
     "name": "stdout",
     "output_type": "stream",
     "text": [
      "[[24.66175035]\n",
      " [24.75867849]\n",
      " [24.12818489]\n",
      " [23.6660319 ]\n",
      " [23.40283153]\n",
      " [23.3519324 ]\n",
      " [23.4115948 ]\n",
      " [24.62690961]\n",
      " [25.85982186]\n",
      " [26.32723979]\n",
      " [27.192151  ]\n",
      " [27.61178513]\n",
      " [28.35258435]\n",
      " [27.97058342]\n",
      " [27.96306766]\n",
      " [27.29076266]\n",
      " [27.04070243]\n",
      " [25.31673081]\n",
      " [24.79165344]\n",
      " [24.70169048]\n",
      " [24.80197948]\n",
      " [25.30052599]\n",
      " [24.26671054]\n",
      " [24.92476646]]\n"
     ]
    }
   ],
   "source": [
    "count=0\n",
    "lsttemperature_forecast=[]\n",
    "while count < 24: #predict 24 giờ forward\n",
    "  input_temp = input_temp.reshape(-1,1)\n",
    "  features_test = []\n",
    "  features_test.append(input_temp)\n",
    "  features_test = np.array(features_test)\n",
    "  features_test = np.reshape(features_test, (features_test.shape[0], features_test.shape[1]))\n",
    "  #print(features_test.shape)\n",
    "  temperature_forecast = Temperature_Forecast_Model(dataset_temp).predict(features_test)\n",
    "  #print(temperature_forecast)\n",
    "  input_temp = np.append(input_temp, temperature_forecast)\n",
    "  input_temp = np.delete(input_temp, 0)\n",
    "  lsttemperature_forecast.append(temperature_forecast)\n",
    "  count+=1\n",
    "\n",
    "#Hieu la: temp(tại n)= f[temp(tại n-60),temp(tại n-59),.... ,temp(tại n-1)]     \n",
    "\n",
    "lsttemperature_forecast = sc.inverse_transform(lsttemperature_forecast) - 1\n",
    "print(lsttemperature_forecast)"
   ]
  },
  {
   "cell_type": "code",
   "execution_count": 8,
   "metadata": {},
   "outputs": [],
   "source": [
    "dataset_scaled = sc.fit_transform(dataset_humi)\n",
    "input_humi = input_humi.reshape(-1,1)\n",
    "#chuan hoa de dua vao model\n",
    "input_humi = sc.transform(input_humi)"
   ]
  },
  {
   "cell_type": "code",
   "execution_count": 9,
   "metadata": {},
   "outputs": [
    {
     "name": "stdout",
     "output_type": "stream",
     "text": [
      "[[76.16311442]\n",
      " [75.46134082]\n",
      " [76.90892431]\n",
      " [79.27102869]\n",
      " [79.43985615]\n",
      " [80.2026829 ]\n",
      " [79.73210358]\n",
      " [75.08743832]\n",
      " [71.73122371]\n",
      " [71.52815018]\n",
      " [66.85718195]\n",
      " [65.60184789]\n",
      " [65.03169592]\n",
      " [65.38226075]\n",
      " [65.18115607]\n",
      " [68.67544467]\n",
      " [69.38573131]\n",
      " [76.77911126]\n",
      " [77.73779027]\n",
      " [80.86767824]\n",
      " [79.85127342]\n",
      " [75.51924631]\n",
      " [82.7668652 ]\n",
      " [77.11123174]]\n"
     ]
    }
   ],
   "source": [
    "count=0\n",
    "lsthumidity_forecast=[]\n",
    "while count < 24: #predict 24 giờ forward\n",
    "  input_humi = input_humi.reshape(-1,1)\n",
    "  features_test = []\n",
    "  features_test.append(input_humi)\n",
    "  features_test = np.array(features_test)\n",
    "  features_test = np.reshape(features_test, (features_test.shape[0], features_test.shape[1]))\n",
    "  #print(features_test.shape)\n",
    "  humidity_forecast = Humidity_Forecast_Model(dataset_humi).predict(features_test)\n",
    "  #print(humidity_forecast)\n",
    "  input_humi = np.append(input_humi, humidity_forecast)\n",
    "  input_humi = np.delete(input_humi, 0)\n",
    "  lsthumidity_forecast.append(humidity_forecast)\n",
    "  count+=1\n",
    "\n",
    "#Hieu la: temp(tại n)= f[temp(tại n-60),temp(tại n-59),.... ,temp(tại n-1)]     \n",
    "\n",
    "lsthumidity_forecast = sc.inverse_transform(lsthumidity_forecast) - 3\n",
    "print(lsthumidity_forecast)"
   ]
  },
  {
   "cell_type": "code",
   "execution_count": 10,
   "metadata": {},
   "outputs": [
    {
     "name": "stdout",
     "output_type": "stream",
     "text": [
      "[[25.]\n",
      " [25.]\n",
      " [25.]\n",
      " [25.]\n",
      " [24.]\n",
      " [24.]\n",
      " [24.]\n",
      " [25.]\n",
      " [25.]\n",
      " [25.]\n",
      " [25.]\n",
      " [26.]\n",
      " [26.]\n",
      " [27.]\n",
      " [25.]\n",
      " [25.]\n",
      " [25.]\n",
      " [25.]\n",
      " [25.]\n",
      " [25.]\n",
      " [24.]\n",
      " [24.]\n",
      " [24.]\n",
      " [24.]]\n"
     ]
    }
   ],
   "source": [
    "dataset_real = pd.read_csv('./DataSet.csv')\n",
    "real_temp = dataset_real.iloc[-24:, 1:2].values\n",
    "print(real_temp)"
   ]
  },
  {
   "cell_type": "code",
   "execution_count": 11,
   "metadata": {},
   "outputs": [
    {
     "name": "stdout",
     "output_type": "stream",
     "text": [
      "[[83]\n",
      " [89]\n",
      " [89]\n",
      " [89]\n",
      " [94]\n",
      " [94]\n",
      " [94]\n",
      " [90]\n",
      " [90]\n",
      " [89]\n",
      " [94]\n",
      " [89]\n",
      " [89]\n",
      " [84]\n",
      " [89]\n",
      " [89]\n",
      " [94]\n",
      " [94]\n",
      " [94]\n",
      " [89]\n",
      " [89]\n",
      " [89]\n",
      " [94]\n",
      " [94]]\n"
     ]
    }
   ],
   "source": [
    "real_humi = dataset_real.iloc[-24:, 2:3].values\n",
    "print(real_humi)"
   ]
  },
  {
   "cell_type": "code",
   "execution_count": 12,
   "metadata": {},
   "outputs": [
    {
     "data": {
      "image/png": "[encoded data removed]",
      "text/plain": [
       "<Figure size 432x288 with 1 Axes>"
      ]
     },
     "metadata": {
      "needs_background": "light"
     },
     "output_type": "display_data"
    }
   ],
   "source": [
    "plt.plot(real_temp, color = 'green', label = 'Real Temp')\n",
    "plt.plot(lsttemperature_forecast, color = 'blue', label = 'Forecast temp')\n",
    "plt.axis((0,24,10,40))\n",
    "plt.title('Da Nang Temperature Forecast Ngay 31/3/2022')\n",
    "plt.xlabel('Time')\n",
    "plt.ylabel('Temp C')\n",
    "plt.legend()\n",
    "plt.show()"
   ]
  },
  {
   "cell_type": "code",
   "execution_count": 13,
   "metadata": {},
   "outputs": [
    {
     "data": {
      "image/png": "[encoded data removed]",
      "text/plain": [
       "<Figure size 432x288 with 1 Axes>"
      ]
     },
     "metadata": {
      "needs_background": "light"
     },
     "output_type": "display_data"
    }
   ],
   "source": [
    "plt.plot(real_humi, color = 'green', label = 'Real Humi')\n",
    "plt.plot(lsthumidity_forecast, color = 'blue', label = 'Forecast Humi')\n",
    "plt.axis((0,24,10,100))\n",
    "plt.title('Da Nang Humidity Forecast Ngay 31/3/2022')\n",
    "plt.xlabel('Time')\n",
    "plt.ylabel('Temp C')\n",
    "plt.legend()\n",
    "plt.show()"
   ]
  },
  {
   "cell_type": "code",
   "execution_count": 14,
   "metadata": {},
   "outputs": [
    {
     "name": "stdout",
     "output_type": "stream",
     "text": [
      "24.875\n",
      "90.5\n"
     ]
    }
   ],
   "source": [
    "print(real_temp.mean())\n",
    "print(real_humi.mean())"
   ]
  },
  {
   "cell_type": "code",
   "execution_count": 15,
   "metadata": {},
   "outputs": [
    {
     "name": "stdout",
     "output_type": "stream",
     "text": [
      "1.0715897379478496\n",
      "16.238567581131168\n"
     ]
    }
   ],
   "source": [
    "print(mean_absolute_error(lsttemperature_forecast, real_temp)) \n",
    "print(mean_absolute_error(lsthumidity_forecast, real_humi)) "
   ]
  }
 ],
 "metadata": {
  "interpreter": {
   "hash": "8df092bfa2a7941e3a633739def87ce31ced0aee2a4beadb497a281d9d579ff4"
  },
  "kernelspec": {
   "display_name": "Python 3.10.4 64-bit (windows store)",
   "language": "python",
   "name": "python3"
  },
  "language_info": {
   "codemirror_mode": {
    "name": "ipython",
    "version": 3
   },
   "file_extension": ".py",
   "mimetype": "text/x-python",
   "name": "python",
   "nbconvert_exporter": "python",
   "pygments_lexer": "ipython3",
   "version": "3.10.4"
  },
  "orig_nbformat": 4
 },
 "nbformat": 4,
 "nbformat_minor": 2
}
