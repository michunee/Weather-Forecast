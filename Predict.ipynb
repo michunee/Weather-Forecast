{
 "cells": [
  {
   "cell_type": "code",
   "execution_count": 1,
   "metadata": {},
   "outputs": [],
   "source": [
    "import pandas as pd\n",
    "import numpy as np\n",
    "import matplotlib.pyplot as plt\n",
    "from sklearn.preprocessing import MinMaxScaler\n",
    "from sklearn.linear_model import LinearRegression \n",
    "from sklearn.metrics import mean_absolute_error\n",
    "dataframe=pd.read_csv(\"./weatherDaNang_2019.csv\")"
   ]
  },
  {
   "cell_type": "code",
   "execution_count": 2,
   "metadata": {},
   "outputs": [
    {
     "name": "stdout",
     "output_type": "stream",
     "text": [
      "       TIMESTAMP TEMPERATURE HUMIDITY ISRAINING\n",
      "0  21042022 1200        28.0       70         0\n",
      "1  21042022 1300        28.0       70         0\n",
      "2  21042022 1400        28.0       70         0\n",
      "3  21042022 1500        28.0       74         0\n",
      "4  21042022 1600        27.0       74         0\n"
     ]
    }
   ],
   "source": [
    "import gspread\n",
    "import pandas as pd\n",
    "import numpy as np\n",
    "gc=gspread.service_account(filename=\"./credentials.json\")\n",
    "# read data and put it in a dataframe\n",
    "gsheets = gc.open_by_key('1sLYt4uMzQM0zqQGN36J8m0hgSkSJvrhf7fYxD4UUIuI')\n",
    "worksheet = gsheets.get_worksheet(0)\n",
    "rows=worksheet.get_all_values()\n",
    "df=pd.DataFrame(worksheet.get_all_records())\n",
    "last60_row=rows[-60:]\n",
    "dataframeTest = pd.DataFrame(last60_row, columns=rows[0])\n",
    "print(dataframeTest.head())"
   ]
  },
  {
   "cell_type": "code",
   "execution_count": 3,
   "metadata": {},
   "outputs": [],
   "source": [
    "dataset_temp = dataframe.iloc[:,1:2].values\n",
    "dataset_humi = dataframe.iloc[:,2:3].values\n",
    "dataset_israining = dataframe.iloc[:,3:4].values\n",
    "input_temp = dataframeTest.iloc[:,1:2].values\n",
    "input_humi = dataframeTest.iloc[:,2:3].values\n",
    "input_israining = dataframeTest.iloc[:,3:4].values\n",
    "\n",
    "sc = MinMaxScaler(feature_range = (0, 1))"
   ]
  },
  {
   "cell_type": "code",
   "execution_count": 4,
   "metadata": {},
   "outputs": [],
   "source": [
    "def Temperature_Forecast_Model(dataset_temp):\n",
    "    sc = MinMaxScaler(feature_range = (0, 1))\n",
    "    dataset_scaled = sc.fit_transform(dataset_temp)\n",
    "    features_train = []\n",
    "    labels_train = []\n",
    "    #60 timesteps and 1 output\n",
    "    for i in range(60, len(dataset_temp)):\n",
    "        features_train.append(dataset_scaled[i-60:i, 0]) \n",
    "        labels_train.append(dataset_scaled[i, 0])\n",
    "    features_train, labels_train = np.array(features_train), np.array(labels_train)\n",
    "    features_train = np.reshape(features_train, (features_train.shape[0], features_train.shape[1]))\n",
    "    model = LinearRegression().fit(features_train, labels_train)\n",
    "    return model\n"
   ]
  },
  {
   "cell_type": "code",
   "execution_count": 5,
   "metadata": {},
   "outputs": [],
   "source": [
    "def Humidity_Forecast_Model(dataset_humi):\n",
    "    sc = MinMaxScaler(feature_range = (0, 1))\n",
    "    dataset_scaled = sc.fit_transform(dataset_humi)\n",
    "    features_train = []\n",
    "    labels_train = []\n",
    "    #60 timesteps and 1 output\n",
    "    for i in range(60, len(dataset_humi)):\n",
    "        features_train.append(dataset_scaled[i-60:i, 0]) \n",
    "        labels_train.append(dataset_scaled[i, 0])\n",
    "    features_train, labels_train = np.array(features_train), np.array(labels_train)\n",
    "    features_train = np.reshape(features_train, (features_train.shape[0], features_train.shape[1]))\n",
    "    model = LinearRegression().fit(features_train, labels_train)\n",
    "    return model"
   ]
  },
  {
   "cell_type": "code",
   "execution_count": 6,
   "metadata": {},
   "outputs": [],
   "source": [
    "def Israining_Forecast_Model(dataset_israining):\n",
    "    sc = MinMaxScaler(feature_range = (0, 1))\n",
    "    dataset_scaled = sc.fit_transform(dataset_israining)\n",
    "    features_train = []\n",
    "    labels_train = []\n",
    "    #60 timesteps and 1 output\n",
    "    for i in range(60, len(dataset_israining)):\n",
    "        features_train.append(dataset_scaled[i-60:i, 0]) \n",
    "        labels_train.append(dataset_scaled[i, 0])\n",
    "    features_train, labels_train = np.array(features_train), np.array(labels_train)\n",
    "    features_train = np.reshape(features_train, (features_train.shape[0], features_train.shape[1]))\n",
    "    model = LinearRegression().fit(features_train, labels_train)\n",
    "    return model"
   ]
  },
  {
   "cell_type": "code",
   "execution_count": 7,
   "metadata": {},
   "outputs": [],
   "source": [
    "dataset_scaled = sc.fit_transform(dataset_temp)\n",
    "input_temp = input_temp.reshape(-1,1)\n",
    "#chuan hoa de dua vao model\n",
    "input_temp = sc.transform(input_temp)"
   ]
  },
  {
   "cell_type": "code",
   "execution_count": 8,
   "metadata": {},
   "outputs": [
    {
     "name": "stdout",
     "output_type": "stream",
     "text": [
      "[25.2 24.9 24.5 25.2 24.4 24.5 25.8 26.3 28.  29.3 30.2 30.1 29.9 29.4\n",
      " 29.2 28.8 27.1 27.1 26.7 26.2 26.3 26.2 26.2 26. ]\n"
     ]
    }
   ],
   "source": [
    "count=0\n",
    "lsttemperature_forecast=[]\n",
    "while count < 24: #predict 24 giờ forward\n",
    "  input_temp = input_temp.reshape(-1,1)\n",
    "  features_test = []\n",
    "  features_test.append(input_temp)\n",
    "  features_test = np.array(features_test)\n",
    "  features_test = np.reshape(features_test, (features_test.shape[0], features_test.shape[1]))\n",
    "  #print(features_test.shape)\n",
    "  temperature_forecast = Temperature_Forecast_Model(dataset_temp).predict(features_test)\n",
    "  #print(temperature_forecast)\n",
    "  input_temp = np.append(input_temp, temperature_forecast)\n",
    "  input_temp = np.delete(input_temp, 0)\n",
    "  lsttemperature_forecast.append(temperature_forecast)\n",
    "  count+=1\n",
    "\n",
    "#Hieu la: temp(tại n)= f[temp(tại n-60),temp(tại n-59),.... ,temp(tại n-1)]     \n",
    "\n",
    "lsttemperature_forecast = sc.inverse_transform(lsttemperature_forecast) - 1\n",
    "lsttemperature_forecast = lsttemperature_forecast.flatten()\n",
    "lsttemperature_forecast = np.round(lsttemperature_forecast, decimals = 1)\n",
    "print(lsttemperature_forecast)"
   ]
  },
  {
   "cell_type": "code",
   "execution_count": 9,
   "metadata": {},
   "outputs": [],
   "source": [
    "dataset_scaled = sc.fit_transform(dataset_humi)\n",
    "input_humi = input_humi.reshape(-1,1)\n",
    "#chuan hoa de dua vao model\n",
    "input_humi = sc.transform(input_humi)"
   ]
  },
  {
   "cell_type": "code",
   "execution_count": 10,
   "metadata": {},
   "outputs": [
    {
     "name": "stdout",
     "output_type": "stream",
     "text": [
      "[82.2 82.2 84.6 79.9 81.7 81.9 77.8 74.3 68.9 64.1 64.2 62.  64.2 65.2\n",
      " 65.1 67.7 74.8 75.  76.2 82.2 81.7 82.5 81.  83.2]\n"
     ]
    }
   ],
   "source": [
    "count=0\n",
    "lsthumidity_forecast=[]\n",
    "while count < 24: #predict 24 giờ forward\n",
    "  input_humi = input_humi.reshape(-1,1)\n",
    "  features_test = []\n",
    "  features_test.append(input_humi)\n",
    "  features_test = np.array(features_test)\n",
    "  features_test = np.reshape(features_test, (features_test.shape[0], features_test.shape[1]))\n",
    "  #print(features_test.shape)\n",
    "  humidity_forecast = Humidity_Forecast_Model(dataset_humi).predict(features_test)\n",
    "  #print(humidity_forecast)\n",
    "  input_humi = np.append(input_humi, humidity_forecast)\n",
    "  input_humi = np.delete(input_humi, 0)\n",
    "  lsthumidity_forecast.append(humidity_forecast)\n",
    "  count+=1\n",
    "\n",
    "#Hieu la: temp(tại n)= f[temp(tại n-60),temp(tại n-59),.... ,temp(tại n-1)]     \n",
    "\n",
    "lsthumidity_forecast = sc.inverse_transform(lsthumidity_forecast) - 3\n",
    "lsthumidity_forecast = lsthumidity_forecast.flatten()\n",
    "lsthumidity_forecast = np.round(lsthumidity_forecast, decimals = 1)\n",
    "print(lsthumidity_forecast)"
   ]
  },
  {
   "cell_type": "code",
   "execution_count": 11,
   "metadata": {},
   "outputs": [],
   "source": [
    "dataset_scaled = sc.fit_transform(dataset_israining)\n",
    "input_israining = input_israining.reshape(-1,1)\n",
    "#chuan hoa de dua vao model\n",
    "input_israining = sc.transform(input_israining)"
   ]
  },
  {
   "cell_type": "code",
   "execution_count": 12,
   "metadata": {},
   "outputs": [
    {
     "name": "stdout",
     "output_type": "stream",
     "text": [
      "[0.01853 0.02779 0.03487 0.04023 0.04478 0.0484  0.05219 0.05544 0.05836\n",
      " 0.06091 0.06263 0.06446 0.06665 0.06861 0.07027 0.07147 0.07327 0.07491\n",
      " 0.07642 0.07843 0.08076 0.08296 0.08553 0.08856]\n"
     ]
    }
   ],
   "source": [
    "count=0\n",
    "lstisraining_forecast=[]\n",
    "while count < 24: #predict 24 giờ forward\n",
    "  input_israining = input_israining.reshape(-1,1)\n",
    "  features_test = []\n",
    "  features_test.append(input_israining)\n",
    "  features_test = np.array(features_test)\n",
    "  features_test = np.reshape(features_test, (features_test.shape[0], features_test.shape[1]))\n",
    "  #print(features_test.shape)\n",
    "  israining_forecast = Israining_Forecast_Model(dataset_israining).predict(features_test)\n",
    "  input_israining = np.append(input_israining, israining_forecast)\n",
    "  input_israining = np.delete(input_israining, 0)\n",
    "  lstisraining_forecast.append(israining_forecast)\n",
    "  count+=1\n",
    "\n",
    "#Hieu la: temp(tại n)= f[temp(tại n-60),temp(tại n-59),.... ,temp(tại n-1)]     \n",
    "\n",
    "lstisraining_forecast = np.round(lstisraining_forecast, decimals = 5)\n",
    "lstisraining_forecast = lstisraining_forecast.flatten()\n",
    "print(lstisraining_forecast)"
   ]
  },
  {
   "cell_type": "code",
   "execution_count": 13,
   "metadata": {},
   "outputs": [
    {
     "data": {
      "image/png": "[encoded data removed]",
      "text/plain": [
       "<Figure size 432x288 with 1 Axes>"
      ]
     },
     "metadata": {
      "needs_background": "light"
     },
     "output_type": "display_data"
    }
   ],
   "source": [
    "plt.plot(lsttemperature_forecast, color = 'blue', label = 'Forecast temp')\n",
    "plt.axis((0,24,10,40))\n",
    "plt.title('Da Nang Temperature Forecast')\n",
    "plt.xlabel('Time')\n",
    "plt.ylabel('Temp C')\n",
    "plt.legend()\n",
    "plt.show()"
   ]
  },
  {
   "cell_type": "code",
   "execution_count": 14,
   "metadata": {},
   "outputs": [
    {
     "data": {
      "image/png": "[encoded data removed]",
      "text/plain": [
       "<Figure size 432x288 with 1 Axes>"
      ]
     },
     "metadata": {
      "needs_background": "light"
     },
     "output_type": "display_data"
    }
   ],
   "source": [
    "plt.plot(lsthumidity_forecast, color = 'blue', label = 'Forecast Humi')\n",
    "plt.axis((0,24,10,100))\n",
    "plt.title('Da Nang Humidity Forecast')\n",
    "plt.xlabel('Time')\n",
    "plt.ylabel('Temp C')\n",
    "plt.legend()\n",
    "plt.show()"
   ]
  },
  {
   "cell_type": "code",
   "execution_count": 15,
   "metadata": {},
   "outputs": [],
   "source": [
    "rows=worksheet.get_all_values()\n",
    "last_row=len(rows)\n",
    "date=worksheet.cell(last_row,1).value\n",
    "#print(date)\n",
    "from datetime import datetime\n",
    "date_time_obj = datetime.strptime(date, '%d%m%Y %H%M')\n",
    "#print(date_time_obj)\n"
   ]
  },
  {
   "cell_type": "code",
   "execution_count": 16,
   "metadata": {},
   "outputs": [],
   "source": [
    "import datetime\n",
    "delta1 = datetime.timedelta(hours=1)\n",
    "\n",
    "lstdate=[]\n",
    "count=0\n",
    "while count <24:\n",
    "  date_time_obj =date_time_obj+ delta1\n",
    "  date_time_ = date_time_obj.strftime(\"%d%m%Y %H%M\")\n",
    "  #print(date_time_)\n",
    "  lstdate.append(date_time_)\n",
    "  count+=1\n",
    "#print(lstdate)"
   ]
  },
  {
   "cell_type": "code",
   "execution_count": 17,
   "metadata": {},
   "outputs": [
    {
     "name": "stdout",
     "output_type": "stream",
     "text": [
      "        TIMESTAMP  TEMPERATURE  HUMIDITY  ISRAINING\n",
      "0   24042022 0000         25.2      82.2    0.01853\n",
      "1   24042022 0100         24.9      82.2    0.02779\n",
      "2   24042022 0200         24.5      84.6    0.03487\n",
      "3   24042022 0300         25.2      79.9    0.04023\n",
      "4   24042022 0400         24.4      81.7    0.04478\n",
      "5   24042022 0500         24.5      81.9    0.04840\n",
      "6   24042022 0600         25.8      77.8    0.05219\n",
      "7   24042022 0700         26.3      74.3    0.05544\n",
      "8   24042022 0800         28.0      68.9    0.05836\n",
      "9   24042022 0900         29.3      64.1    0.06091\n",
      "10  24042022 1000         30.2      64.2    0.06263\n",
      "11  24042022 1100         30.1      62.0    0.06446\n",
      "12  24042022 1200         29.9      64.2    0.06665\n",
      "13  24042022 1300         29.4      65.2    0.06861\n",
      "14  24042022 1400         29.2      65.1    0.07027\n",
      "15  24042022 1500         28.8      67.7    0.07147\n",
      "16  24042022 1600         27.1      74.8    0.07327\n",
      "17  24042022 1700         27.1      75.0    0.07491\n",
      "18  24042022 1800         26.7      76.2    0.07642\n",
      "19  24042022 1900         26.2      82.2    0.07843\n",
      "20  24042022 2000         26.3      81.7    0.08076\n",
      "21  24042022 2100         26.2      82.5    0.08296\n",
      "22  24042022 2200         26.2      81.0    0.08553\n",
      "23  24042022 2300         26.0      83.2    0.08856\n"
     ]
    }
   ],
   "source": [
    "OneDayHours_forecast= pd.DataFrame(list(zip(lstdate,lsttemperature_forecast,lsthumidity_forecast,lstisraining_forecast)),\n",
    "               columns =['TIMESTAMP','TEMPERATURE','HUMIDITY','ISRAINING'])\n",
    "print(OneDayHours_forecast)"
   ]
  },
  {
   "cell_type": "code",
   "execution_count": 18,
   "metadata": {},
   "outputs": [
    {
     "data": {
      "text/plain": [
       "{'spreadsheetId': '1sLYt4uMzQM0zqQGN36J8m0hgSkSJvrhf7fYxD4UUIuI',\n",
       " 'updates': {'spreadsheetId': '1sLYt4uMzQM0zqQGN36J8m0hgSkSJvrhf7fYxD4UUIuI',\n",
       "  'updatedRange': \"'Predict Weather LR'!A2:D25\",\n",
       "  'updatedRows': 24,\n",
       "  'updatedColumns': 4,\n",
       "  'updatedCells': 96}}"
      ]
     },
     "execution_count": 18,
     "metadata": {},
     "output_type": "execute_result"
    }
   ],
   "source": [
    "gsheets = gc.open_by_key('1sLYt4uMzQM0zqQGN36J8m0hgSkSJvrhf7fYxD4UUIuI')\n",
    "worksheet2 = gsheets.get_worksheet(2)\n",
    "#worksheet2 = gsheets.sheet1\n",
    "rows=worksheet2.get_all_values()\n",
    "last_row=len(rows)\n",
    "all_row=OneDayHours_forecast.values.tolist()\n",
    "worksheet2.delete_rows(2,last_row)\n",
    "worksheet2.insert_rows(all_row,2)"
   ]
  }
 ],
 "metadata": {
  "interpreter": {
   "hash": "8df092bfa2a7941e3a633739def87ce31ced0aee2a4beadb497a281d9d579ff4"
  },
  "kernelspec": {
   "display_name": "Python 3.10.4 64-bit (windows store)",
   "language": "python",
   "name": "python3"
  },
  "language_info": {
   "codemirror_mode": {
    "name": "ipython",
    "version": 3
   },
   "file_extension": ".py",
   "mimetype": "text/x-python",
   "name": "python",
   "nbconvert_exporter": "python",
   "pygments_lexer": "ipython3",
   "version": "3.10.4"
  },
  "orig_nbformat": 4
 },
 "nbformat": 4,
 "nbformat_minor": 2
}
